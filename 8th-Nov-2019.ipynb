{
 "cells": [
  {
   "cell_type": "markdown",
   "metadata": {},
   "source": [
    "- Read the data by using read_csv\n",
    "- Check the number of rows and columns unsing shape\n",
    "- Check for the missing values using isnull()\n",
    "- Observe the dtypes of columns\n",
    "- Draw the histrograms for all numerical columns\n",
    "    - check how the distribution is?\n",
    "    - are there any skewed columns\n",
    "- Observe the values range in each column and mean,std using describe()\n",
    "- Create a copy of the data. and separate the color column and store it in varible target.\n",
    "- Store all other columns data as a DataFrame with name features\n",
    "- Apply Kmeans clustering with no of clusters as 2\n",
    "- Compare the resulting clusters with the original color column\n",
    "- Apply scaling for all the numerical columns\n",
    "- Apply Kmeans clustering with no of clusters as 2\n",
    "- Compare the resulting clusters with the original color column\n",
    "- Apply Kmeans with different cluster numbers\n",
    "- Draw a plot by taking no of clusters on x axis and Inertia(Total intra Cluster distance) on y axis.Choose the best no of clusters for the data\n"
   ]
  },
  {
   "cell_type": "code",
   "execution_count": 1,
   "metadata": {},
   "outputs": [],
   "source": [
    "# import the required packages\n",
    "%matplotlib inline\n",
    "import numpy as np\n",
    "import pandas as pd\n",
    "import matplotlib.pyplot as plt\n",
    "import seaborn "
   ]
  },
  {
   "cell_type": "code",
   "execution_count": 2,
   "metadata": {
    "collapsed": true
   },
   "outputs": [
    {
     "data": {
      "text/html": [
       "<div>\n",
       "<style scoped>\n",
       "    .dataframe tbody tr th:only-of-type {\n",
       "        vertical-align: middle;\n",
       "    }\n",
       "\n",
       "    .dataframe tbody tr th {\n",
       "        vertical-align: top;\n",
       "    }\n",
       "\n",
       "    .dataframe thead th {\n",
       "        text-align: right;\n",
       "    }\n",
       "</style>\n",
       "<table border=\"1\" class=\"dataframe\">\n",
       "  <thead>\n",
       "    <tr style=\"text-align: right;\">\n",
       "      <th></th>\n",
       "      <th>fixed_acidity</th>\n",
       "      <th>volatile_acidity</th>\n",
       "      <th>citric_acid</th>\n",
       "      <th>residual_sugar</th>\n",
       "      <th>chlorides</th>\n",
       "      <th>free_sulfur_dioxide</th>\n",
       "      <th>total_sulfur_dioxide</th>\n",
       "      <th>density</th>\n",
       "      <th>pH</th>\n",
       "      <th>sulphates</th>\n",
       "      <th>alcohol</th>\n",
       "      <th>quality</th>\n",
       "      <th>color</th>\n",
       "    </tr>\n",
       "  </thead>\n",
       "  <tbody>\n",
       "    <tr>\n",
       "      <th>0</th>\n",
       "      <td>7.4</td>\n",
       "      <td>0.70</td>\n",
       "      <td>0.00</td>\n",
       "      <td>1.9</td>\n",
       "      <td>0.076</td>\n",
       "      <td>11.0</td>\n",
       "      <td>34.0</td>\n",
       "      <td>0.9978</td>\n",
       "      <td>3.51</td>\n",
       "      <td>0.56</td>\n",
       "      <td>9.4</td>\n",
       "      <td>5</td>\n",
       "      <td>red</td>\n",
       "    </tr>\n",
       "    <tr>\n",
       "      <th>1</th>\n",
       "      <td>7.8</td>\n",
       "      <td>0.88</td>\n",
       "      <td>0.00</td>\n",
       "      <td>2.6</td>\n",
       "      <td>0.098</td>\n",
       "      <td>25.0</td>\n",
       "      <td>67.0</td>\n",
       "      <td>0.9968</td>\n",
       "      <td>3.20</td>\n",
       "      <td>0.68</td>\n",
       "      <td>9.8</td>\n",
       "      <td>5</td>\n",
       "      <td>red</td>\n",
       "    </tr>\n",
       "    <tr>\n",
       "      <th>2</th>\n",
       "      <td>7.8</td>\n",
       "      <td>0.76</td>\n",
       "      <td>0.04</td>\n",
       "      <td>2.3</td>\n",
       "      <td>0.092</td>\n",
       "      <td>15.0</td>\n",
       "      <td>54.0</td>\n",
       "      <td>0.9970</td>\n",
       "      <td>3.26</td>\n",
       "      <td>0.65</td>\n",
       "      <td>9.8</td>\n",
       "      <td>5</td>\n",
       "      <td>red</td>\n",
       "    </tr>\n",
       "    <tr>\n",
       "      <th>3</th>\n",
       "      <td>11.2</td>\n",
       "      <td>0.28</td>\n",
       "      <td>0.56</td>\n",
       "      <td>1.9</td>\n",
       "      <td>0.075</td>\n",
       "      <td>17.0</td>\n",
       "      <td>60.0</td>\n",
       "      <td>0.9980</td>\n",
       "      <td>3.16</td>\n",
       "      <td>0.58</td>\n",
       "      <td>9.8</td>\n",
       "      <td>6</td>\n",
       "      <td>red</td>\n",
       "    </tr>\n",
       "    <tr>\n",
       "      <th>4</th>\n",
       "      <td>7.4</td>\n",
       "      <td>0.66</td>\n",
       "      <td>0.00</td>\n",
       "      <td>1.8</td>\n",
       "      <td>0.075</td>\n",
       "      <td>13.0</td>\n",
       "      <td>40.0</td>\n",
       "      <td>0.9978</td>\n",
       "      <td>3.51</td>\n",
       "      <td>0.56</td>\n",
       "      <td>9.4</td>\n",
       "      <td>5</td>\n",
       "      <td>red</td>\n",
       "    </tr>\n",
       "  </tbody>\n",
       "</table>\n",
       "</div>"
      ],
      "text/plain": [
       "   fixed_acidity  volatile_acidity  citric_acid  residual_sugar  chlorides  \\\n",
       "0            7.4              0.70         0.00             1.9      0.076   \n",
       "1            7.8              0.88         0.00             2.6      0.098   \n",
       "2            7.8              0.76         0.04             2.3      0.092   \n",
       "3           11.2              0.28         0.56             1.9      0.075   \n",
       "4            7.4              0.66         0.00             1.8      0.075   \n",
       "\n",
       "   free_sulfur_dioxide  total_sulfur_dioxide  density    pH  sulphates  \\\n",
       "0                 11.0                  34.0   0.9978  3.51       0.56   \n",
       "1                 25.0                  67.0   0.9968  3.20       0.68   \n",
       "2                 15.0                  54.0   0.9970  3.26       0.65   \n",
       "3                 17.0                  60.0   0.9980  3.16       0.58   \n",
       "4                 13.0                  40.0   0.9978  3.51       0.56   \n",
       "\n",
       "   alcohol  quality color  \n",
       "0      9.4        5   red  \n",
       "1      9.8        5   red  \n",
       "2      9.8        5   red  \n",
       "3      9.8        6   red  \n",
       "4      9.4        5   red  "
      ]
     },
     "execution_count": 2,
     "metadata": {},
     "output_type": "execute_result"
    }
   ],
   "source": [
    "# Read the data by using read_csv\n",
    "data = pd.read_csv('https://raw.githubusercontent.com/sumathi16/ML_FDP_GEC_2019/master/Wine_Quality_Data.csv')\n",
    "data.head()"
   ]
  },
  {
   "cell_type": "code",
   "execution_count": 6,
   "metadata": {},
   "outputs": [
    {
     "data": {
      "text/plain": [
       "(6496, 13)"
      ]
     },
     "execution_count": 6,
     "metadata": {},
     "output_type": "execute_result"
    }
   ],
   "source": [
    "#Check the number of rows and columns using shape\n",
    "data.shape"
   ]
  },
  {
   "cell_type": "code",
   "execution_count": 4,
   "metadata": {},
   "outputs": [
    {
     "data": {
      "text/plain": [
       "0"
      ]
     },
     "execution_count": 4,
     "metadata": {},
     "output_type": "execute_result"
    }
   ],
   "source": [
    "#Check for the missing values using isnull()\n",
    "data.isnull().sum().sum()"
   ]
  },
  {
   "cell_type": "code",
   "execution_count": 5,
   "metadata": {
    "collapsed": true
   },
   "outputs": [
    {
     "data": {
      "text/plain": [
       "fixed_acidity           float64\n",
       "volatile_acidity        float64\n",
       "citric_acid             float64\n",
       "residual_sugar          float64\n",
       "chlorides               float64\n",
       "free_sulfur_dioxide     float64\n",
       "total_sulfur_dioxide    float64\n",
       "density                 float64\n",
       "pH                      float64\n",
       "sulphates               float64\n",
       "alcohol                 float64\n",
       "quality                   int64\n",
       "color                    object\n",
       "dtype: object"
      ]
     },
     "execution_count": 5,
     "metadata": {},
     "output_type": "execute_result"
    }
   ],
   "source": [
    "#Observe the dtypes of columns\n",
    "data.dtypes"
   ]
  },
  {
   "cell_type": "code",
   "execution_count": 7,
   "metadata": {
    "collapsed": true
   },
   "outputs": [
    {
     "name": "stdout",
     "output_type": "stream",
     "text": [
      "<class 'pandas.core.frame.DataFrame'>\n",
      "RangeIndex: 6496 entries, 0 to 6495\n",
      "Data columns (total 13 columns):\n",
      "fixed_acidity           6496 non-null float64\n",
      "volatile_acidity        6496 non-null float64\n",
      "citric_acid             6496 non-null float64\n",
      "residual_sugar          6496 non-null float64\n",
      "chlorides               6496 non-null float64\n",
      "free_sulfur_dioxide     6496 non-null float64\n",
      "total_sulfur_dioxide    6496 non-null float64\n",
      "density                 6496 non-null float64\n",
      "pH                      6496 non-null float64\n",
      "sulphates               6496 non-null float64\n",
      "alcohol                 6496 non-null float64\n",
      "quality                 6496 non-null int64\n",
      "color                   6496 non-null object\n",
      "dtypes: float64(11), int64(1), object(1)\n",
      "memory usage: 659.8+ KB\n"
     ]
    }
   ],
   "source": [
    "data.info()"
   ]
  },
  {
   "cell_type": "code",
   "execution_count": 8,
   "metadata": {
    "collapsed": true
   },
   "outputs": [
    {
     "data": {
      "text/plain": [
       "array([[<matplotlib.axes._subplots.AxesSubplot object at 0x000001EC91611E48>,\n",
       "        <matplotlib.axes._subplots.AxesSubplot object at 0x000001EC928E3A90>,\n",
       "        <matplotlib.axes._subplots.AxesSubplot object at 0x000001EC92917160>],\n",
       "       [<matplotlib.axes._subplots.AxesSubplot object at 0x000001EC9293F7F0>,\n",
       "        <matplotlib.axes._subplots.AxesSubplot object at 0x000001EC92967E80>,\n",
       "        <matplotlib.axes._subplots.AxesSubplot object at 0x000001EC92967EB8>],\n",
       "       [<matplotlib.axes._subplots.AxesSubplot object at 0x000001EC929BEA90>,\n",
       "        <matplotlib.axes._subplots.AxesSubplot object at 0x000001EC929EF160>,\n",
       "        <matplotlib.axes._subplots.AxesSubplot object at 0x000001EC92A177F0>],\n",
       "       [<matplotlib.axes._subplots.AxesSubplot object at 0x000001EC92A3FE80>,\n",
       "        <matplotlib.axes._subplots.AxesSubplot object at 0x000001EC92A70550>,\n",
       "        <matplotlib.axes._subplots.AxesSubplot object at 0x000001EC92A98BE0>]],\n",
       "      dtype=object)"
      ]
     },
     "execution_count": 8,
     "metadata": {},
     "output_type": "execute_result"
    },
    {
     "data": {
      "image/png": "[encoded data removed]",
      "text/plain": [
       "<Figure size 432x288 with 12 Axes>"
      ]
     },
     "metadata": {
      "needs_background": "light"
     },
     "output_type": "display_data"
    }
   ],
   "source": [
    "#Draw the histrograms for all numerical columns\n",
    "data.hist()"
   ]
  },
  {
   "cell_type": "code",
   "execution_count": 9,
   "metadata": {
    "collapsed": true
   },
   "outputs": [
    {
     "data": {
      "text/html": [
       "<div>\n",
       "<style scoped>\n",
       "    .dataframe tbody tr th:only-of-type {\n",
       "        vertical-align: middle;\n",
       "    }\n",
       "\n",
       "    .dataframe tbody tr th {\n",
       "        vertical-align: top;\n",
       "    }\n",
       "\n",
       "    .dataframe thead th {\n",
       "        text-align: right;\n",
       "    }\n",
       "</style>\n",
       "<table border=\"1\" class=\"dataframe\">\n",
       "  <thead>\n",
       "    <tr style=\"text-align: right;\">\n",
       "      <th></th>\n",
       "      <th>fixed_acidity</th>\n",
       "      <th>volatile_acidity</th>\n",
       "      <th>citric_acid</th>\n",
       "      <th>residual_sugar</th>\n",
       "      <th>chlorides</th>\n",
       "      <th>free_sulfur_dioxide</th>\n",
       "      <th>total_sulfur_dioxide</th>\n",
       "      <th>density</th>\n",
       "      <th>pH</th>\n",
       "      <th>sulphates</th>\n",
       "      <th>alcohol</th>\n",
       "      <th>quality</th>\n",
       "    </tr>\n",
       "  </thead>\n",
       "  <tbody>\n",
       "    <tr>\n",
       "      <th>count</th>\n",
       "      <td>6496.000000</td>\n",
       "      <td>6496.000000</td>\n",
       "      <td>6496.000000</td>\n",
       "      <td>6496.000000</td>\n",
       "      <td>6496.000000</td>\n",
       "      <td>6496.000000</td>\n",
       "      <td>6496.000000</td>\n",
       "      <td>6496.000000</td>\n",
       "      <td>6496.000000</td>\n",
       "      <td>6496.000000</td>\n",
       "      <td>6496.000000</td>\n",
       "      <td>6496.000000</td>\n",
       "    </tr>\n",
       "    <tr>\n",
       "      <th>mean</th>\n",
       "      <td>7.215279</td>\n",
       "      <td>0.339611</td>\n",
       "      <td>0.318682</td>\n",
       "      <td>5.443781</td>\n",
       "      <td>0.056031</td>\n",
       "      <td>30.528325</td>\n",
       "      <td>115.757158</td>\n",
       "      <td>0.994696</td>\n",
       "      <td>3.218456</td>\n",
       "      <td>0.531264</td>\n",
       "      <td>10.491969</td>\n",
       "      <td>5.818504</td>\n",
       "    </tr>\n",
       "    <tr>\n",
       "      <th>std</th>\n",
       "      <td>1.296532</td>\n",
       "      <td>0.164588</td>\n",
       "      <td>0.145275</td>\n",
       "      <td>4.757967</td>\n",
       "      <td>0.035035</td>\n",
       "      <td>17.749112</td>\n",
       "      <td>56.517103</td>\n",
       "      <td>0.002999</td>\n",
       "      <td>0.160759</td>\n",
       "      <td>0.148817</td>\n",
       "      <td>1.192727</td>\n",
       "      <td>0.873263</td>\n",
       "    </tr>\n",
       "    <tr>\n",
       "      <th>min</th>\n",
       "      <td>3.800000</td>\n",
       "      <td>0.080000</td>\n",
       "      <td>0.000000</td>\n",
       "      <td>0.600000</td>\n",
       "      <td>0.009000</td>\n",
       "      <td>1.000000</td>\n",
       "      <td>6.000000</td>\n",
       "      <td>0.987110</td>\n",
       "      <td>2.720000</td>\n",
       "      <td>0.220000</td>\n",
       "      <td>8.000000</td>\n",
       "      <td>3.000000</td>\n",
       "    </tr>\n",
       "    <tr>\n",
       "      <th>25%</th>\n",
       "      <td>6.400000</td>\n",
       "      <td>0.230000</td>\n",
       "      <td>0.250000</td>\n",
       "      <td>1.800000</td>\n",
       "      <td>0.038000</td>\n",
       "      <td>17.000000</td>\n",
       "      <td>77.375000</td>\n",
       "      <td>0.992340</td>\n",
       "      <td>3.110000</td>\n",
       "      <td>0.430000</td>\n",
       "      <td>9.500000</td>\n",
       "      <td>5.000000</td>\n",
       "    </tr>\n",
       "    <tr>\n",
       "      <th>50%</th>\n",
       "      <td>7.000000</td>\n",
       "      <td>0.290000</td>\n",
       "      <td>0.310000</td>\n",
       "      <td>3.000000</td>\n",
       "      <td>0.047000</td>\n",
       "      <td>29.000000</td>\n",
       "      <td>118.000000</td>\n",
       "      <td>0.994890</td>\n",
       "      <td>3.210000</td>\n",
       "      <td>0.510000</td>\n",
       "      <td>10.300000</td>\n",
       "      <td>6.000000</td>\n",
       "    </tr>\n",
       "    <tr>\n",
       "      <th>75%</th>\n",
       "      <td>7.700000</td>\n",
       "      <td>0.400000</td>\n",
       "      <td>0.390000</td>\n",
       "      <td>8.100000</td>\n",
       "      <td>0.065000</td>\n",
       "      <td>41.000000</td>\n",
       "      <td>156.000000</td>\n",
       "      <td>0.996990</td>\n",
       "      <td>3.320000</td>\n",
       "      <td>0.600000</td>\n",
       "      <td>11.300000</td>\n",
       "      <td>6.000000</td>\n",
       "    </tr>\n",
       "    <tr>\n",
       "      <th>max</th>\n",
       "      <td>15.900000</td>\n",
       "      <td>1.580000</td>\n",
       "      <td>1.660000</td>\n",
       "      <td>65.800000</td>\n",
       "      <td>0.611000</td>\n",
       "      <td>289.000000</td>\n",
       "      <td>440.000000</td>\n",
       "      <td>1.038980</td>\n",
       "      <td>4.010000</td>\n",
       "      <td>2.000000</td>\n",
       "      <td>14.900000</td>\n",
       "      <td>9.000000</td>\n",
       "    </tr>\n",
       "  </tbody>\n",
       "</table>\n",
       "</div>"
      ],
      "text/plain": [
       "       fixed_acidity  volatile_acidity  citric_acid  residual_sugar  \\\n",
       "count    6496.000000       6496.000000  6496.000000     6496.000000   \n",
       "mean        7.215279          0.339611     0.318682        5.443781   \n",
       "std         1.296532          0.164588     0.145275        4.757967   \n",
       "min         3.800000          0.080000     0.000000        0.600000   \n",
       "25%         6.400000          0.230000     0.250000        1.800000   \n",
       "50%         7.000000          0.290000     0.310000        3.000000   \n",
       "75%         7.700000          0.400000     0.390000        8.100000   \n",
       "max        15.900000          1.580000     1.660000       65.800000   \n",
       "\n",
       "         chlorides  free_sulfur_dioxide  total_sulfur_dioxide      density  \\\n",
       "count  6496.000000          6496.000000           6496.000000  6496.000000   \n",
       "mean      0.056031            30.528325            115.757158     0.994696   \n",
       "std       0.035035            17.749112             56.517103     0.002999   \n",
       "min       0.009000             1.000000              6.000000     0.987110   \n",
       "25%       0.038000            17.000000             77.375000     0.992340   \n",
       "50%       0.047000            29.000000            118.000000     0.994890   \n",
       "75%       0.065000            41.000000            156.000000     0.996990   \n",
       "max       0.611000           289.000000            440.000000     1.038980   \n",
       "\n",
       "                pH    sulphates      alcohol      quality  \n",
       "count  6496.000000  6496.000000  6496.000000  6496.000000  \n",
       "mean      3.218456     0.531264    10.491969     5.818504  \n",
       "std       0.160759     0.148817     1.192727     0.873263  \n",
       "min       2.720000     0.220000     8.000000     3.000000  \n",
       "25%       3.110000     0.430000     9.500000     5.000000  \n",
       "50%       3.210000     0.510000    10.300000     6.000000  \n",
       "75%       3.320000     0.600000    11.300000     6.000000  \n",
       "max       4.010000     2.000000    14.900000     9.000000  "
      ]
     },
     "execution_count": 9,
     "metadata": {},
     "output_type": "execute_result"
    }
   ],
   "source": [
    "#Observe the values range in each column and mean,std using describe()\n",
    "data.describe()"
   ]
  },
  {
   "cell_type": "code",
   "execution_count": 10,
   "metadata": {
    "collapsed": true
   },
   "outputs": [
    {
     "data": {
      "text/plain": [
       "Index(['fixed_acidity', 'volatile_acidity', 'citric_acid', 'residual_sugar',\n",
       "       'chlorides', 'free_sulfur_dioxide', 'total_sulfur_dioxide', 'density',\n",
       "       'pH', 'sulphates', 'alcohol', 'quality', 'color'],\n",
       "      dtype='object')"
      ]
     },
     "execution_count": 10,
     "metadata": {},
     "output_type": "execute_result"
    }
   ],
   "source": [
    "data.columns"
   ]
  },
  {
   "cell_type": "code",
   "execution_count": 11,
   "metadata": {},
   "outputs": [],
   "source": [
    "#create a copy of the data. and separate the color column and store it in varible target.\n",
    "#Store all other columns data as a DataFrame with name features\n",
    "new_df = data.copy()\n",
    "target = new_df.color\n",
    "features = new_df.drop('color',axis=1)"
   ]
  },
  {
   "cell_type": "code",
   "execution_count": 12,
   "metadata": {
    "collapsed": true
   },
   "outputs": [
    {
     "data": {
      "text/plain": [
       "KMeans(algorithm='auto', copy_x=True, init='k-means++', max_iter=300,\n",
       "    n_clusters=2, n_init=10, n_jobs=1, precompute_distances='auto',\n",
       "    random_state=None, tol=0.0001, verbose=0)"
      ]
     },
     "execution_count": 12,
     "metadata": {},
     "output_type": "execute_result"
    }
   ],
   "source": [
    "# Apply Kmeans clustering with no of clusters as 2\n",
    "from sklearn.cluster import KMeans\n",
    "km = KMeans(2)\n",
    "km.fit(features)"
   ]
  },
  {
   "cell_type": "code",
   "execution_count": 13,
   "metadata": {},
   "outputs": [
    {
     "data": {
      "text/plain": [
       "8593925.131323857"
      ]
     },
     "execution_count": 13,
     "metadata": {},
     "output_type": "execute_result"
    }
   ],
   "source": [
    "km.inertia_"
   ]
  },
  {
   "cell_type": "code",
   "execution_count": 14,
   "metadata": {},
   "outputs": [
    {
     "data": {
      "text/plain": [
       "array([1, 1, 1, 1, 1])"
      ]
     },
     "execution_count": 14,
     "metadata": {},
     "output_type": "execute_result"
    }
   ],
   "source": [
    "pred = km.predict(features)\n",
    "pred[:5]"
   ]
  },
  {
   "cell_type": "code",
   "execution_count": 16,
   "metadata": {
    "collapsed": true
   },
   "outputs": [
    {
     "data": {
      "text/plain": [
       "array([0, 1, 0, 0, 0, 0, 1, 0, 1, 0, 0, 1, 0, 1, 1, 0, 0, 1, 1, 1, 0, 0,\n",
       "       1, 0, 1, 0, 0, 1, 1, 0, 0, 0, 1, 1, 1, 0, 0, 1, 0, 0, 0, 0, 1, 0,\n",
       "       0, 1, 0, 0, 0, 0, 1, 1, 1, 1, 0, 0, 0, 0, 0, 0, 1, 0, 0, 1, 0, 0,\n",
       "       0, 0, 0, 0, 0, 1, 0, 0, 0, 1, 1, 1, 0, 0, 0, 0, 0, 1, 0, 0, 0, 0,\n",
       "       0, 0, 0, 0, 0, 0, 0, 1, 0, 0, 0, 0, 0, 0, 1, 1, 0, 1, 1, 0, 0, 1,\n",
       "       0, 0, 0, 0, 0, 0, 1, 0, 0, 0, 0, 0, 0, 0, 0, 1, 0, 1, 0, 0, 0, 1,\n",
       "       1, 1, 1, 0, 0, 1, 0, 0, 1, 0, 0, 1, 0, 1, 0, 0, 0, 0, 1, 1, 1, 0,\n",
       "       0, 0, 0, 0, 0, 1, 1, 1, 0, 1, 0, 1, 0, 1, 0, 1, 0, 0, 0, 1, 0, 1,\n",
       "       1, 0, 0, 0, 0, 0, 0, 0, 0, 1, 0, 0, 1, 0, 0, 1, 0, 0, 1, 1])"
      ]
     },
     "execution_count": 16,
     "metadata": {},
     "output_type": "execute_result"
    }
   ],
   "source": [
    "pred[6300:]"
   ]
  },
  {
   "cell_type": "code",
   "execution_count": 18,
   "metadata": {
    "collapsed": true
   },
   "outputs": [
    {
     "data": {
      "text/plain": [
       "color  pred\n",
       "red    0         85\n",
       "       1       1513\n",
       "white  0       3600\n",
       "       1       1298\n",
       "Name: pred, dtype: int64"
      ]
     },
     "execution_count": 18,
     "metadata": {},
     "output_type": "execute_result"
    }
   ],
   "source": [
    "new_df['pred'] = pred\n",
    "new_df.groupby(['color','pred']).pred.count()"
   ]
  },
  {
   "cell_type": "code",
   "execution_count": 20,
   "metadata": {},
   "outputs": [],
   "source": [
    "from sklearn.preprocessing import MinMaxScaler\n",
    "sc = MinMaxScaler()\n",
    "features[:]=sc.fit_transform(features)"
   ]
  },
  {
   "cell_type": "code",
   "execution_count": 21,
   "metadata": {
    "collapsed": true
   },
   "outputs": [
    {
     "data": {
      "text/html": [
       "<div>\n",
       "<style scoped>\n",
       "    .dataframe tbody tr th:only-of-type {\n",
       "        vertical-align: middle;\n",
       "    }\n",
       "\n",
       "    .dataframe tbody tr th {\n",
       "        vertical-align: top;\n",
       "    }\n",
       "\n",
       "    .dataframe thead th {\n",
       "        text-align: right;\n",
       "    }\n",
       "</style>\n",
       "<table border=\"1\" class=\"dataframe\">\n",
       "  <thead>\n",
       "    <tr style=\"text-align: right;\">\n",
       "      <th></th>\n",
       "      <th>fixed_acidity</th>\n",
       "      <th>volatile_acidity</th>\n",
       "      <th>citric_acid</th>\n",
       "      <th>residual_sugar</th>\n",
       "      <th>chlorides</th>\n",
       "      <th>free_sulfur_dioxide</th>\n",
       "      <th>total_sulfur_dioxide</th>\n",
       "      <th>density</th>\n",
       "      <th>pH</th>\n",
       "      <th>sulphates</th>\n",
       "      <th>alcohol</th>\n",
       "      <th>quality</th>\n",
       "    </tr>\n",
       "  </thead>\n",
       "  <tbody>\n",
       "    <tr>\n",
       "      <th>count</th>\n",
       "      <td>6496.000000</td>\n",
       "      <td>6496.000000</td>\n",
       "      <td>6496.000000</td>\n",
       "      <td>6496.000000</td>\n",
       "      <td>6496.000000</td>\n",
       "      <td>6496.000000</td>\n",
       "      <td>6496.000000</td>\n",
       "      <td>6496.000000</td>\n",
       "      <td>6496.000000</td>\n",
       "      <td>6496.000000</td>\n",
       "      <td>6496.000000</td>\n",
       "      <td>6496.000000</td>\n",
       "    </tr>\n",
       "    <tr>\n",
       "      <th>mean</th>\n",
       "      <td>0.282254</td>\n",
       "      <td>0.173074</td>\n",
       "      <td>0.191977</td>\n",
       "      <td>0.074291</td>\n",
       "      <td>0.078124</td>\n",
       "      <td>0.102529</td>\n",
       "      <td>0.252897</td>\n",
       "      <td>0.146253</td>\n",
       "      <td>0.386400</td>\n",
       "      <td>0.174867</td>\n",
       "      <td>0.361155</td>\n",
       "      <td>0.469751</td>\n",
       "    </tr>\n",
       "    <tr>\n",
       "      <th>std</th>\n",
       "      <td>0.107151</td>\n",
       "      <td>0.109726</td>\n",
       "      <td>0.087515</td>\n",
       "      <td>0.072975</td>\n",
       "      <td>0.058198</td>\n",
       "      <td>0.061629</td>\n",
       "      <td>0.130224</td>\n",
       "      <td>0.057811</td>\n",
       "      <td>0.124619</td>\n",
       "      <td>0.083605</td>\n",
       "      <td>0.172859</td>\n",
       "      <td>0.145544</td>\n",
       "    </tr>\n",
       "    <tr>\n",
       "      <th>min</th>\n",
       "      <td>0.000000</td>\n",
       "      <td>0.000000</td>\n",
       "      <td>0.000000</td>\n",
       "      <td>0.000000</td>\n",
       "      <td>0.000000</td>\n",
       "      <td>0.000000</td>\n",
       "      <td>0.000000</td>\n",
       "      <td>0.000000</td>\n",
       "      <td>0.000000</td>\n",
       "      <td>0.000000</td>\n",
       "      <td>0.000000</td>\n",
       "      <td>0.000000</td>\n",
       "    </tr>\n",
       "    <tr>\n",
       "      <th>25%</th>\n",
       "      <td>0.214876</td>\n",
       "      <td>0.100000</td>\n",
       "      <td>0.150602</td>\n",
       "      <td>0.018405</td>\n",
       "      <td>0.048173</td>\n",
       "      <td>0.055556</td>\n",
       "      <td>0.164459</td>\n",
       "      <td>0.100829</td>\n",
       "      <td>0.302326</td>\n",
       "      <td>0.117978</td>\n",
       "      <td>0.217391</td>\n",
       "      <td>0.333333</td>\n",
       "    </tr>\n",
       "    <tr>\n",
       "      <th>50%</th>\n",
       "      <td>0.264463</td>\n",
       "      <td>0.140000</td>\n",
       "      <td>0.186747</td>\n",
       "      <td>0.036810</td>\n",
       "      <td>0.063123</td>\n",
       "      <td>0.097222</td>\n",
       "      <td>0.258065</td>\n",
       "      <td>0.149990</td>\n",
       "      <td>0.379845</td>\n",
       "      <td>0.162921</td>\n",
       "      <td>0.333333</td>\n",
       "      <td>0.500000</td>\n",
       "    </tr>\n",
       "    <tr>\n",
       "      <th>75%</th>\n",
       "      <td>0.322314</td>\n",
       "      <td>0.213333</td>\n",
       "      <td>0.234940</td>\n",
       "      <td>0.115031</td>\n",
       "      <td>0.093023</td>\n",
       "      <td>0.138889</td>\n",
       "      <td>0.345622</td>\n",
       "      <td>0.190476</td>\n",
       "      <td>0.465116</td>\n",
       "      <td>0.213483</td>\n",
       "      <td>0.478261</td>\n",
       "      <td>0.500000</td>\n",
       "    </tr>\n",
       "    <tr>\n",
       "      <th>max</th>\n",
       "      <td>1.000000</td>\n",
       "      <td>1.000000</td>\n",
       "      <td>1.000000</td>\n",
       "      <td>1.000000</td>\n",
       "      <td>1.000000</td>\n",
       "      <td>1.000000</td>\n",
       "      <td>1.000000</td>\n",
       "      <td>1.000000</td>\n",
       "      <td>1.000000</td>\n",
       "      <td>1.000000</td>\n",
       "      <td>1.000000</td>\n",
       "      <td>1.000000</td>\n",
       "    </tr>\n",
       "  </tbody>\n",
       "</table>\n",
       "</div>"
      ],
      "text/plain": [
       "       fixed_acidity  volatile_acidity  citric_acid  residual_sugar  \\\n",
       "count    6496.000000       6496.000000  6496.000000     6496.000000   \n",
       "mean        0.282254          0.173074     0.191977        0.074291   \n",
       "std         0.107151          0.109726     0.087515        0.072975   \n",
       "min         0.000000          0.000000     0.000000        0.000000   \n",
       "25%         0.214876          0.100000     0.150602        0.018405   \n",
       "50%         0.264463          0.140000     0.186747        0.036810   \n",
       "75%         0.322314          0.213333     0.234940        0.115031   \n",
       "max         1.000000          1.000000     1.000000        1.000000   \n",
       "\n",
       "         chlorides  free_sulfur_dioxide  total_sulfur_dioxide      density  \\\n",
       "count  6496.000000          6496.000000           6496.000000  6496.000000   \n",
       "mean      0.078124             0.102529              0.252897     0.146253   \n",
       "std       0.058198             0.061629              0.130224     0.057811   \n",
       "min       0.000000             0.000000              0.000000     0.000000   \n",
       "25%       0.048173             0.055556              0.164459     0.100829   \n",
       "50%       0.063123             0.097222              0.258065     0.149990   \n",
       "75%       0.093023             0.138889              0.345622     0.190476   \n",
       "max       1.000000             1.000000              1.000000     1.000000   \n",
       "\n",
       "                pH    sulphates      alcohol      quality  \n",
       "count  6496.000000  6496.000000  6496.000000  6496.000000  \n",
       "mean      0.386400     0.174867     0.361155     0.469751  \n",
       "std       0.124619     0.083605     0.172859     0.145544  \n",
       "min       0.000000     0.000000     0.000000     0.000000  \n",
       "25%       0.302326     0.117978     0.217391     0.333333  \n",
       "50%       0.379845     0.162921     0.333333     0.500000  \n",
       "75%       0.465116     0.213483     0.478261     0.500000  \n",
       "max       1.000000     1.000000     1.000000     1.000000  "
      ]
     },
     "execution_count": 21,
     "metadata": {},
     "output_type": "execute_result"
    }
   ],
   "source": [
    "features.describe()"
   ]
  },
  {
   "cell_type": "code",
   "execution_count": 24,
   "metadata": {},
   "outputs": [],
   "source": [
    "km1 = KMeans(2)\n",
    "km1.fit(features)\n",
    "sc_pred = km1.predict(features)"
   ]
  },
  {
   "cell_type": "code",
   "execution_count": 26,
   "metadata": {
    "collapsed": true
   },
   "outputs": [
    {
     "data": {
      "text/plain": [
       "color  sc_pred\n",
       "red    0           598\n",
       "       1          1000\n",
       "white  0          2063\n",
       "       1          2835\n",
       "Name: sc_pred, dtype: int64"
      ]
     },
     "execution_count": 26,
     "metadata": {},
     "output_type": "execute_result"
    }
   ],
   "source": [
    "new_df['sc_pred'] = sc_pred\n",
    "new_df.groupby(['color','sc_pred']).sc_pred.count()"
   ]
  },
  {
   "cell_type": "code",
   "execution_count": 29,
   "metadata": {
    "collapsed": true
   },
   "outputs": [
    {
     "data": {
      "text/plain": [
       "<matplotlib.axes._subplots.AxesSubplot at 0x1ec92ae9780>"
      ]
     },
     "execution_count": 29,
     "metadata": {},
     "output_type": "execute_result"
    },
    {
     "data": {
      "image/png": "[encoded data removed]",
      "text/plain": [
       "<Figure size 432x288 with 1 Axes>"
      ]
     },
     "metadata": {
      "needs_background": "light"
     },
     "output_type": "display_data"
    }
   ],
   "source": [
    "import seaborn as sns\n",
    "sns.boxplot(y=features)"
   ]
  },
  {
   "cell_type": "code",
   "execution_count": 32,
   "metadata": {},
   "outputs": [],
   "source": [
    "d ={}\n",
    "for i in range(2,10):\n",
    "    kn = KMeans(i)\n",
    "    kn.fit(features)\n",
    "    d[i] = kn.inertia_"
   ]
  },
  {
   "cell_type": "code",
   "execution_count": 33,
   "metadata": {
    "collapsed": true
   },
   "outputs": [
    {
     "data": {
      "text/plain": [
       "[<matplotlib.lines.Line2D at 0x1ec93a4b2b0>]"
      ]
     },
     "execution_count": 33,
     "metadata": {},
     "output_type": "execute_result"
    },
    {
     "data": {
      "image/png": "[encoded data removed]",
      "text/plain": [
       "<Figure size 432x288 with 1 Axes>"
      ]
     },
     "metadata": {
      "needs_background": "light"
     },
     "output_type": "display_data"
    }
   ],
   "source": [
    "plt.plot(list(d.keys()),list(d.values()))"
   ]
  },
  {
   "cell_type": "code",
   "execution_count": 37,
   "metadata": {
    "collapsed": true
   },
   "outputs": [
    {
     "data": {
      "image/png": "[encoded data removed]",
      "text/plain": [
       "<Figure size 1440x2160 with 12 Axes>"
      ]
     },
     "metadata": {
      "needs_background": "light"
     },
     "output_type": "display_data"
    }
   ],
   "source": [
    "col = features.columns\n",
    "plt.figure(figsize=(20,30))\n",
    "for i in range(len(col)):\n",
    "    plt.subplot(4,3,i+1)\n",
    "    plt.boxplot(features[col[i]])\n",
    "    plt.title(col[i])"
   ]
  },
  {
   "cell_type": "code",
   "execution_count": 38,
   "metadata": {},
   "outputs": [],
   "source": [
    "quality = new_df.quality\n",
    "features1 = new_df.drop(['color','quality'],axis=1)\n"
   ]
  },
  {
   "cell_type": "code",
   "execution_count": 39,
   "metadata": {
    "collapsed": true
   },
   "outputs": [
    {
     "data": {
      "text/plain": [
       "7"
      ]
     },
     "execution_count": 39,
     "metadata": {},
     "output_type": "execute_result"
    }
   ],
   "source": [
    "quality.nunique()"
   ]
  },
  {
   "cell_type": "code",
   "execution_count": 40,
   "metadata": {},
   "outputs": [],
   "source": [
    "kqua = KMeans(7)\n",
    "kqua.fit(features1)\n",
    "qpred = kqua.predict(features1)"
   ]
  },
  {
   "cell_type": "code",
   "execution_count": 41,
   "metadata": {
    "collapsed": true
   },
   "outputs": [
    {
     "data": {
      "text/plain": [
       "quality  qpred\n",
       "3        0          2\n",
       "         1          3\n",
       "         2          9\n",
       "         3          3\n",
       "         4          6\n",
       "         5          5\n",
       "         6          2\n",
       "4        0         41\n",
       "         1         30\n",
       "         2         39\n",
       "         3         32\n",
       "         4          8\n",
       "         5         43\n",
       "         6         23\n",
       "5        0        281\n",
       "         1        377\n",
       "         2        320\n",
       "         3        358\n",
       "         4        165\n",
       "         5        260\n",
       "         6        376\n",
       "6        0        508\n",
       "         1        368\n",
       "         2        382\n",
       "         3        610\n",
       "         4        150\n",
       "         5        314\n",
       "         6        504\n",
       "7        0        248\n",
       "         1         64\n",
       "         2        144\n",
       "         3        316\n",
       "         4         19\n",
       "         5         82\n",
       "         6        206\n",
       "8        0         47\n",
       "         1         14\n",
       "         2         13\n",
       "         3         61\n",
       "         4          6\n",
       "         5         13\n",
       "         6         39\n",
       "9        0          1\n",
       "         3          4\n",
       "Name: qpred, dtype: int64"
      ]
     },
     "execution_count": 41,
     "metadata": {},
     "output_type": "execute_result"
    }
   ],
   "source": [
    "new_df['qpred'] = qpred\n",
    "new_df.groupby(['quality','qpred']).qpred.count()"
   ]
  },
  {
   "cell_type": "code",
   "execution_count": 42,
   "metadata": {
    "collapsed": true
   },
   "outputs": [
    {
     "data": {
      "text/plain": [
       "qpred  quality\n",
       "0      3            2\n",
       "       4           41\n",
       "       5          281\n",
       "       6          508\n",
       "       7          248\n",
       "       8           47\n",
       "       9            1\n",
       "1      3            3\n",
       "       4           30\n",
       "       5          377\n",
       "       6          368\n",
       "       7           64\n",
       "       8           14\n",
       "2      3            9\n",
       "       4           39\n",
       "       5          320\n",
       "       6          382\n",
       "       7          144\n",
       "       8           13\n",
       "3      3            3\n",
       "       4           32\n",
       "       5          358\n",
       "       6          610\n",
       "       7          316\n",
       "       8           61\n",
       "       9            4\n",
       "4      3            6\n",
       "       4            8\n",
       "       5          165\n",
       "       6          150\n",
       "       7           19\n",
       "       8            6\n",
       "5      3            5\n",
       "       4           43\n",
       "       5          260\n",
       "       6          314\n",
       "       7           82\n",
       "       8           13\n",
       "6      3            2\n",
       "       4           23\n",
       "       5          376\n",
       "       6          504\n",
       "       7          206\n",
       "       8           39\n",
       "Name: quality, dtype: int64"
      ]
     },
     "execution_count": 42,
     "metadata": {},
     "output_type": "execute_result"
    }
   ],
   "source": [
    "new_df.groupby(['qpred','quality']).quality.count()"
   ]
  },
  {
   "cell_type": "code",
   "execution_count": 43,
   "metadata": {
    "collapsed": true
   },
   "outputs": [
    {
     "data": {
      "text/plain": [
       "color  qpred\n",
       "red    0         172\n",
       "       1           1\n",
       "       2         874\n",
       "       3          64\n",
       "       4           2\n",
       "       5         460\n",
       "       6          25\n",
       "white  0         956\n",
       "       1         855\n",
       "       2          33\n",
       "       3        1320\n",
       "       4         352\n",
       "       5         257\n",
       "       6        1125\n",
       "Name: quality, dtype: int64"
      ]
     },
     "execution_count": 43,
     "metadata": {},
     "output_type": "execute_result"
    }
   ],
   "source": [
    "new_df.groupby(['color','qpred']).quality.count()"
   ]
  },
  {
   "cell_type": "markdown",
   "metadata": {},
   "source": [
    "# Apply Supervised Learning \n",
    "for the same problem with color column as target"
   ]
  },
  {
   "cell_type": "code",
   "execution_count": 44,
   "metadata": {},
   "outputs": [
    {
     "data": {
      "text/plain": [
       "white    4898\n",
       "red      1598\n",
       "Name: color, dtype: int64"
      ]
     },
     "execution_count": 44,
     "metadata": {},
     "output_type": "execute_result"
    }
   ],
   "source": [
    "target.value_counts()"
   ]
  },
  {
   "cell_type": "markdown",
   "metadata": {},
   "source": [
    "#### imbalanced Dataset use f1_score as metric "
   ]
  },
  {
   "cell_type": "code",
   "execution_count": 50,
   "metadata": {},
   "outputs": [],
   "source": [
    "# Change the target column into numerical\n",
    "target_enc = target.apply(lambda x: 1 if x=='white' else 0)"
   ]
  },
  {
   "cell_type": "code",
   "execution_count": 51,
   "metadata": {},
   "outputs": [],
   "source": [
    "# KNeighborsClassifier for original data\n",
    "from sklearn.neighbors import KNeighborsClassifier\n",
    "knn = KNeighborsClassifier()\n",
    "knn.fit(features,target_enc)\n",
    "ypred = knn.predict(features)"
   ]
  },
  {
   "cell_type": "code",
   "execution_count": 52,
   "metadata": {},
   "outputs": [
    {
     "data": {
      "text/plain": [
       "0.996124821537834"
      ]
     },
     "execution_count": 52,
     "metadata": {},
     "output_type": "execute_result"
    }
   ],
   "source": [
    "# f1_score for features without scaling\n",
    "from sklearn.metrics import f1_score\n",
    "f1_score(ypred,target_enc)\n"
   ]
  },
  {
   "cell_type": "code",
   "execution_count": null,
   "metadata": {},
   "outputs": [],
   "source": []
  }
 ],
 "metadata": {
  "kernelspec": {
   "display_name": "Python 3",
   "language": "python",
   "name": "python3"
  },
  "language_info": {
   "codemirror_mode": {
    "name": "ipython",
    "version": 3
   },
   "file_extension": ".py",
   "mimetype": "text/x-python",
   "name": "python",
   "nbconvert_exporter": "python",
   "pygments_lexer": "ipython3",
   "version": "3.7.0"
  }
 },
 "nbformat": 4,
 "nbformat_minor": 2
}
